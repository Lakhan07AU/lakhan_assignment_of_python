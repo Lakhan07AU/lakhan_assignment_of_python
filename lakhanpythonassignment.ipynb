{
  "nbformat": 4,
  "nbformat_minor": 0,
  "metadata": {
    "colab": {
      "provenance": [],
      "authorship_tag": "ABX9TyOJT7uxG9/uQxmLrUSK3GK5",
      "include_colab_link": true
    },
    "kernelspec": {
      "name": "python3",
      "display_name": "Python 3"
    },
    "language_info": {
      "name": "python"
    }
  },
  "cells": [
    {
      "cell_type": "markdown",
      "metadata": {
        "id": "view-in-github",
        "colab_type": "text"
      },
      "source": [
        "<a href=\"https://colab.research.google.com/github/Lakhan07AU/lakhan_assignment_of_python/blob/main/lakhanpythonassignment.ipynb\" target=\"_parent\"><img src=\"https://colab.research.google.com/assets/colab-badge.svg\" alt=\"Open In Colab\"/></a>"
      ]
    },
    {
      "cell_type": "code",
      "execution_count": null,
      "metadata": {
        "colab": {
          "base_uri": "https://localhost:8080/"
        },
        "id": "i6hk9YxwUSBb",
        "outputId": "a08f0c1e-6f43-4d54-90ef-e0ea24555e4d"
      },
      "outputs": [
        {
          "output_type": "stream",
          "name": "stdout",
          "text": [
            "enter first number:10\n",
            "enter second number:3\n",
            "addition: 13\n",
            "substraction: 7\n",
            "multiplication: 30\n",
            "division: 3.3333333333333335\n",
            "floor_division: 3\n",
            "modulus: 1\n",
            "exponent: 1000\n"
          ]
        }
      ],
      "source": [
        "#question 1:arthmetic operators\n",
        "a=int(input(\"enter first number:\"))\n",
        "b=int(input(\"enter second number:\"))\n",
        "addition=a+b\n",
        "print(\"addition:\",a+b)\n",
        "subtraction=a-b\n",
        "print(\"substraction:\",a-b)\n",
        "multiplication=a*b\n",
        "print(\"multiplication:\",a*b)\n",
        "division=a/b\n",
        "print(\"division:\",a/b)\n",
        "floor_divison=a//b\n",
        "print(\"floor_division:\",a//b)\n",
        "modulus=a%b\n",
        "print(\"modulus:\",a%b)\n",
        "exponent=a**b\n",
        "print(\"exponent:\",a**b)"
      ]
    },
    {
      "cell_type": "code",
      "source": [
        "#question2:comparison operators\n",
        "a=int(input(\"enter first number:\"))\n",
        "b=int(input(\"enter second number:\"))\n",
        "if a>b:\n",
        "  print(\"first number is greater than second number\")\n",
        "elif a==b:\n",
        "    print(\"first number is equal to second number\")\n",
        "elif a<=b:\n",
        "    print(\"first number is less than or equal to second number\")"
      ],
      "metadata": {
        "colab": {
          "base_uri": "https://localhost:8080/"
        },
        "id": "RKe5Bd0wVE1G",
        "outputId": "9285ab2e-3a31-4d12-beac-cbc41cddf13a"
      },
      "execution_count": null,
      "outputs": [
        {
          "output_type": "stream",
          "name": "stdout",
          "text": [
            "enter first number:8\n",
            "enter second number:8\n",
            "first number is equal to second number\n"
          ]
        }
      ]
    },
    {
      "cell_type": "code",
      "source": [
        "#question 3:logical operator bollean\n",
        "a=True\n",
        "b=False\n",
        "c=True\n",
        "print(a and b)\n",
        "print(a and c)\n",
        "print(b and c)\n",
        "print(b or a)\n",
        "print(a or c)\n",
        "print(b or c)\n",
        "print(not a)\n",
        "print(not b)\n",
        "print(not c)"
      ],
      "metadata": {
        "colab": {
          "base_uri": "https://localhost:8080/"
        },
        "id": "vFsqYd34Uz4K",
        "outputId": "9f4d2f5d-af1d-4b3b-84e9-1bc8cb5a9a69"
      },
      "execution_count": null,
      "outputs": [
        {
          "output_type": "stream",
          "name": "stdout",
          "text": [
            "False\n",
            "True\n",
            "False\n",
            "True\n",
            "True\n",
            "True\n",
            "False\n",
            "True\n",
            "False\n"
          ]
        }
      ]
    },
    {
      "cell_type": "code",
      "source": [
        "#question 4: string manipulation\n",
        "a=input(\"Enter The string name\")\n",
        "print(len(a))\n",
        "print(a[0],a[-1])\n",
        "print(a[::-1])\n",
        "print(a.upper())\n",
        "print(a.lower())"
      ],
      "metadata": {
        "colab": {
          "base_uri": "https://localhost:8080/"
        },
        "id": "5KEbOy17Y1A-",
        "outputId": "5bdc67b5-b0db-418c-aa40-3c60a15098b5"
      },
      "execution_count": null,
      "outputs": [
        {
          "output_type": "stream",
          "name": "stdout",
          "text": [
            "Enter The string nameRAM LAKHAN \n",
            "11\n",
            "R  \n",
            " NAHKAL MAR\n",
            "RAM LAKHAN \n",
            "ram lakhan \n"
          ]
        }
      ]
    },
    {
      "cell_type": "code",
      "source": [
        "#question 5:string formatting\n",
        "name=input(\"Enter The name : \")\n",
        "age=int(input(\"Enter The age : \"))\n",
        "print(\"hello\",name,\"you are\",age,\"years old\")"
      ],
      "metadata": {
        "colab": {
          "base_uri": "https://localhost:8080/"
        },
        "id": "FEyUTLKobK4V",
        "outputId": "88b08a0c-a4cc-4477-81d6-b710f75fc20b"
      },
      "execution_count": null,
      "outputs": [
        {
          "output_type": "stream",
          "name": "stdout",
          "text": [
            "Enter The name : Lakhan SINGH\n",
            "Enter The age : 18\n",
            "hello Lakhan SINGH you are 18 years old\n"
          ]
        }
      ]
    },
    {
      "cell_type": "code",
      "source": [
        "\n",
        "#problem number 6 substring searching\n",
        "a=input(\"Write a sentence:\")\n",
        "b=input(\"Enter the word you want to search for:\")\n",
        "if b in a:\n",
        "          print(f\"The word'{b}'is in the position:'{a.index(b)}' \")\n",
        "elif b not in a:\n",
        "    print(\"the word does not exist\")"
      ],
      "metadata": {
        "id": "le8rKN-6pivS",
        "colab": {
          "base_uri": "https://localhost:8080/"
        },
        "outputId": "b9bccfa1-3a4b-4642-eff3-e37dd73f09f8"
      },
      "execution_count": null,
      "outputs": [
        {
          "output_type": "stream",
          "name": "stdout",
          "text": [
            "Write a sentence:my laptop name is acer aspire 7\n",
            "Enter the word you want to search for:aspire\n",
            "The word'aspire'is in the position:'23' \n"
          ]
        }
      ]
    },
    {
      "cell_type": "code",
      "source": [
        "#program no 7 list operations\n",
        "a=int(input(\"enter the number 1:\"))\n",
        "b=int(input(\"enter the number 2:\"))\n",
        "c=int(input(\"enter the number 3:\"))\n",
        "d=int(input(\"enter the number 4:\"))\n",
        "e=int(input(\"enter the number 5:\"))\n",
        "f=(a,b,c,d,e)\n",
        "print([f])\n",
        "print(sum(f))\n",
        "print(max(f))\n",
        "print(min(f))"
      ],
      "metadata": {
        "colab": {
          "base_uri": "https://localhost:8080/"
        },
        "id": "Cz63arQ4lQvn",
        "outputId": "2d7fbb25-1dfb-4e47-af2a-69807bbbbede"
      },
      "execution_count": null,
      "outputs": [
        {
          "output_type": "stream",
          "name": "stdout",
          "text": [
            "enter the number 1:6\n",
            "enter the number 2:6\n",
            "enter the number 3:75\n",
            "enter the number 4:45\n",
            "enter the number 5:5\n",
            "[(6, 6, 75, 45,5)]\n",
            "132\n",
            "75\n",
            "5\n"
          ]
        }
      ]
    },
    {
      "cell_type": "code",
      "source": [
        "#question 8 : list manipulation\n",
        "fruits=[\"litchi\",\"orange\",\"kiwi\",\"mango\",\"banana\"]\n",
        "fruits.append(\"apple\")\n",
        "fruits.pop(1)\n",
        "print(fruits)"
      ],
      "metadata": {
        "colab": {
          "base_uri": "https://localhost:8080/"
        },
        "id": "i0TG--pEp7Pe",
        "outputId": "bd6a8911-8444-4214-e39c-6cb67958d640"
      },
      "execution_count": null,
      "outputs": [
        {
          "output_type": "stream",
          "name": "stdout",
          "text": [
            "['litchi', 'kiwi', 'mango', 'banana', 'apple']\n"
          ]
        }
      ]
    },
    {
      "cell_type": "code",
      "source": [
        "#question 9: sorting a list\n",
        "numbers=input(\"Enter five numbers separated by space: \")\n",
        "numbers=[int(x) for x in numbers.split()]\n",
        "#ascending order\n",
        "numbers.sort()\n",
        "print(\"ascending order:\", numbers)\n",
        "#desending order\n",
        "numbers.sort(reverse=True)\n",
        "print(\"descending order:\", numbers)\n"
      ],
      "metadata": {
        "colab": {
          "base_uri": "https://localhost:8080/"
        },
        "id": "yOyTCkF0sfp1",
        "outputId": "1c5913c5-3780-4eb5-fbe7-65f5e2ac9f0e"
      },
      "execution_count": null,
      "outputs": [
        {
          "output_type": "stream",
          "name": "stdout",
          "text": [
            "Enter five numbers separated by space: 8784 9384 8999 928 938\n",
            "ascending order: [928, 938, 8784, 8999, 9384]\n",
            "descending order: [9384, 8999, 8784, 938, 928]\n"
          ]
        }
      ]
    },
    {
      "cell_type": "code",
      "source": [
        "#question 10 :list slicing\n",
        "num=[1, 2, 3, 4, 5, 6, 7, 8, 9, 10]\n",
        "print(num[:5])\n",
        "print(num[5:])\n",
        "print(num[1:8])"
      ],
      "metadata": {
        "colab": {
          "base_uri": "https://localhost:8080/"
        },
        "id": "MZkuF8CiwBZS",
        "outputId": "a11ee867-2a41-49aa-fad4-af44a4de8081"
      },
      "execution_count": null,
      "outputs": [
        {
          "output_type": "stream",
          "name": "stdout",
          "text": [
            "[1, 2, 3, 4, 5]\n",
            "[6, 7, 8, 9, 10]\n",
            "[2, 3, 4, 5, 6, 7, 8]\n"
          ]
        }
      ]
    },
    {
      "cell_type": "code",
      "source": [
        "student=input(\"enter the name of student 1 :\")\n",
        "m11=float(input(\"enter the marks of student in subject 1:\"))\n",
        "m12=float(input(\"enter the marks of student in subject 2:\"))\n",
        "m13=float(input(\"enter the marks of student in subject 3:\"))\n",
        "total_marks_of_student_1=(m11+m12+m13)\n",
        "student2=input(\"enter the name of student 2 :\")\n",
        "m21=float(input(\"enter the marks of student in subject 1:\"))55\n",
        "m22=float(input(\"enter the marks of student in subject 2:\"))\n",
        "m23=float(input(\"enter the marks of student in subject 3:\"))\n",
        "total_marks_of_student_2=(m21+m22+m23)\n",
        "student3=input(\"enter the name of student 3 :\")\n",
        "m31=float(input(\"enter the marks of student in subject 1:\"))\n",
        "m32=float(input(\"enter the marks of student in subject 2:\"))\n",
        "m33=float(input(\"enter the marks of student in subject 3:\"))\n",
        "total_marks_of_student_3=(m31+m32+m33)\n",
        "average=total_marks_of_student_3//3\n",
        "print(\"the average marks of\",student,\"is\",total_marks_of_student_1//3)\n",
        "print(\"the average marks of\",student2,\"is\",total_marks_of_student_2//3)\n",
        "print(\"the average marks of\",student3,\"is:\",total_marks_of_student_3//3)\n",
        "\n"
      ],
      "metadata": {
        "colab": {
          "base_uri": "https://localhost:8080/"
        },
        "id": "in3FGRXJxy72",
        "outputId": "875e7786-102e-4a42-cb78-cd1199d9e6f0"
      },
      "execution_count": null,
      "outputs": [
        {
          "output_type": "stream",
          "name": "stdout",
          "text": [
            "enter the name of student 1 :lakhan singh\n",
            "enter the marks of student in subject 1:40\n",
            "enter the marks of student in subject 2:45\n",
            "enter the marks of student in subject 3:41\n",
            "enter the name of student 2 :vivek singh\n",
            "enter the marks of student in subject 1:45\n",
            "enter the marks of student in subject 2:49\n",
            "enter the marks of student in subject 3:50\n",
            "enter the name of student 3 :anshuman singh\n",
            "enter the marks of student in subject 1:50\n",
            "enter the marks of student in subject 2:50\n",
            "enter the marks of student in subject 3:50\n",
            "the average marks of lakhan singh is 42.0\n",
            "the average marks of vivek singh is 48.0\n",
            "the average marks of anshuman singh is: 50.0\n"
          ]
        }
      ]
    }
  ]
}
